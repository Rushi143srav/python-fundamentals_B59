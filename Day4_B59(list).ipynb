{
 "cells": [
  {
   "cell_type": "code",
   "execution_count": 10,
   "id": "ceb2e5dd",
   "metadata": {},
   "outputs": [
    {
     "name": "stdout",
     "output_type": "stream",
     "text": [
      "['srav', 'baru', 'lucky', 'vani']\n"
     ]
    }
   ],
   "source": [
    "names=['srav','baru','lucky','vani']\n",
    "print(names)"
   ]
  },
  {
   "cell_type": "code",
   "execution_count": 11,
   "id": "f64d91a0",
   "metadata": {},
   "outputs": [
    {
     "data": {
      "text/plain": [
       "list"
      ]
     },
     "execution_count": 11,
     "metadata": {},
     "output_type": "execute_result"
    }
   ],
   "source": [
    "type(names)"
   ]
  },
  {
   "cell_type": "code",
   "execution_count": 22,
   "id": "f529f900",
   "metadata": {},
   "outputs": [
    {
     "name": "stdout",
     "output_type": "stream",
     "text": [
      "Srav\n"
     ]
    }
   ],
   "source": [
    "print(names[0].title())"
   ]
  },
  {
   "cell_type": "code",
   "execution_count": 25,
   "id": "3b3c6acc",
   "metadata": {},
   "outputs": [
    {
     "name": "stdout",
     "output_type": "stream",
     "text": [
      "vani\n",
      "baru\n",
      "lucky\n"
     ]
    }
   ],
   "source": [
    "print(names[3])\n",
    "print(names[1])\n",
    "print(names[2])"
   ]
  },
  {
   "cell_type": "code",
   "execution_count": 28,
   "id": "849bdfee",
   "metadata": {},
   "outputs": [],
   "source": [
    "names.append('dad')\n",
    "names.append('mom')"
   ]
  },
  {
   "cell_type": "code",
   "execution_count": 29,
   "id": "f249ec60",
   "metadata": {},
   "outputs": [
    {
     "name": "stdout",
     "output_type": "stream",
     "text": [
      "['srav', 'baru', 'lucky', 'vani', 'dad', 'dad', 'mom']\n"
     ]
    }
   ],
   "source": [
    "print(names)"
   ]
  },
  {
   "cell_type": "code",
   "execution_count": 30,
   "id": "df704ea8",
   "metadata": {},
   "outputs": [],
   "source": [
    "names.insert(0,'fmy')"
   ]
  },
  {
   "cell_type": "code",
   "execution_count": 31,
   "id": "4d018db6",
   "metadata": {},
   "outputs": [
    {
     "name": "stdout",
     "output_type": "stream",
     "text": [
      "['fmy', 'srav', 'baru', 'lucky', 'vani', 'dad', 'dad', 'mom']\n"
     ]
    }
   ],
   "source": [
    "print(names)"
   ]
  },
  {
   "cell_type": "code",
   "execution_count": 32,
   "id": "1d3d4beb",
   "metadata": {},
   "outputs": [],
   "source": [
    "names[1]='sai'"
   ]
  },
  {
   "cell_type": "code",
   "execution_count": 33,
   "id": "84069736",
   "metadata": {},
   "outputs": [
    {
     "name": "stdout",
     "output_type": "stream",
     "text": [
      "['fmy', 'sai', 'baru', 'lucky', 'vani', 'dad', 'dad', 'mom']\n"
     ]
    }
   ],
   "source": [
    "print(names)"
   ]
  },
  {
   "cell_type": "code",
   "execution_count": 34,
   "id": "cd3c5719",
   "metadata": {},
   "outputs": [],
   "source": [
    "del names[6]"
   ]
  },
  {
   "cell_type": "code",
   "execution_count": 35,
   "id": "e8f51945",
   "metadata": {},
   "outputs": [
    {
     "name": "stdout",
     "output_type": "stream",
     "text": [
      "['fmy', 'sai', 'baru', 'lucky', 'vani', 'dad', 'mom']\n"
     ]
    }
   ],
   "source": [
    "print(names)"
   ]
  },
  {
   "cell_type": "code",
   "execution_count": null,
   "id": "580867e9",
   "metadata": {},
   "outputs": [],
   "source": []
  }
 ],
 "metadata": {
  "kernelspec": {
   "display_name": "Python 3 (ipykernel)",
   "language": "python",
   "name": "python3"
  },
  "language_info": {
   "codemirror_mode": {
    "name": "ipython",
    "version": 3
   },
   "file_extension": ".py",
   "mimetype": "text/x-python",
   "name": "python",
   "nbconvert_exporter": "python",
   "pygments_lexer": "ipython3",
   "version": "3.9.7"
  }
 },
 "nbformat": 4,
 "nbformat_minor": 5
}
